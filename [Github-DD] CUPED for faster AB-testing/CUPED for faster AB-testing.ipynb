{
  "nbformat": 4,
  "nbformat_minor": 0,
  "metadata": {
    "colab": {
      "provenance": []
    },
    "kernelspec": {
      "name": "python3",
      "display_name": "Python 3"
    },
    "language_info": {
      "name": "python"
    }
  },
  "cells": [
    {
      "cell_type": "code",
      "execution_count": null,
      "metadata": {
        "id": "n0LUOHcUqn6U"
      },
      "outputs": [],
      "source": [
        "import numpy as np\n",
        "import pandas as pd\n",
        "import matplotlib.pyplot as plt"
      ]
    },
    {
      "cell_type": "code",
      "source": [
        "# lets say, we have 1000 users that spend around 10E per month on average\n",
        "np.random.seed(0)\n",
        "T0 = 1000\n",
        "t_historical = np.arange(T0)\n",
        "metric_historical_treatment = np.random.normal(10, 2.5, T0)\n",
        "metric_historical_control = np.random.normal(10, 2.5, T0)"
      ],
      "metadata": {
        "id": "mXDC0Kh_qtAc"
      },
      "execution_count": null,
      "outputs": []
    },
    {
      "cell_type": "code",
      "source": [
        "#@title plot - before test\n",
        "plt.figure(figsize=(15, 7))\n",
        "plt.hist(metric_historical_treatment, color='lightgreen', label='historical treatment', alpha=0.6)\n",
        "plt.hist(metric_historical_control, color='lightcoral', label='historical control', alpha=0.6)\n",
        "plt.title('Metric distribution', size=20)\n",
        "plt.xlabel('metric', size=20)\n",
        "plt.ylabel('frequency', size=20)\n",
        "plt.legend(fontsize=20)\n",
        "plt.show()"
      ],
      "metadata": {
        "cellView": "form",
        "id": "00X-yo859mUC"
      },
      "execution_count": null,
      "outputs": []
    },
    {
      "cell_type": "code",
      "source": [
        "# sample variances, True variance\n",
        "np.var(metric_historical_control), np.var(metric_historical_treatment), 2.5**2"
      ],
      "metadata": {
        "id": "N0oVNdsBYbgD"
      },
      "execution_count": null,
      "outputs": []
    },
    {
      "cell_type": "markdown",
      "source": [
        "### Test start"
      ],
      "metadata": {
        "id": "bRZCy0mfEoif"
      }
    },
    {
      "cell_type": "code",
      "source": [
        "# assume, the treatment increased the true spend mean from 10E to 12E\n",
        "np.random.seed(10)\n",
        "metric_test_treatment = metric_historical_treatment + np.random.normal(2, 1, T0) # (5, 1, T1)\n",
        "metric_test_control = metric_historical_control + np.random.normal(0, 1, T0)"
      ],
      "metadata": {
        "id": "D6IQ95S6qtUQ"
      },
      "execution_count": null,
      "outputs": []
    },
    {
      "cell_type": "code",
      "source": [
        "#@title plot - after test\n",
        "plt.figure(figsize=(15, 7))\n",
        "plt.hist(metric_test_treatment, color='lightgreen', label='TEST treatment', alpha=0.6)\n",
        "plt.hist(metric_test_control, color='lightcoral', label='TEST control', alpha=0.6)\n",
        "plt.title('Metric distribution', size=20)\n",
        "plt.xlabel('metric', size=20)\n",
        "plt.ylabel('frequency', size=20)\n",
        "plt.legend(fontsize=20)\n",
        "plt.show()"
      ],
      "metadata": {
        "id": "9QhqHzWFsIP6",
        "cellView": "form"
      },
      "execution_count": null,
      "outputs": []
    },
    {
      "cell_type": "code",
      "source": [
        "# CUPED - from slides\n",
        "metric_historical = np.append(metric_historical_treatment, metric_historical_control)\n",
        "metric_test = np.append(metric_test_treatment, metric_test_control)\n",
        "theta = np.cov(metric_historical, metric_test)[0, 1] / np.var(metric_historical)\n",
        "\n",
        "metric_cuped_treatment = metric_test_treatment - theta*metric_historical_treatment + theta*np.mean(metric_historical)\n",
        "metric_cuped_control = metric_test_control - theta*metric_historical_control + theta*np.mean(metric_historical)"
      ],
      "metadata": {
        "id": "nFyY-5OhXOKE"
      },
      "execution_count": null,
      "outputs": []
    },
    {
      "cell_type": "code",
      "source": [
        "# @title CUPED impact on metrics\n",
        "treatment_impact_df = [[round(metric_test_treatment.mean(), 2), round(metric_test_treatment.var(), 2)], \n",
        "                    [round(metric_cuped_treatment.mean(), 2), round(metric_cuped_treatment.var(), 2)]]\n",
        "\n",
        "control_impact_df = [[round(metric_test_control.mean(), 2), round(metric_test_control.var(), 2)], \n",
        "                    [round(metric_cuped_control.mean(), 2), round(metric_cuped_control.var(), 2)]]\n",
        "\n",
        "print('\\033[1mTreatment: \\033[0m')\n",
        "print(pd.DataFrame(treatment_impact_df, columns=['mean', 'variance'], index=['original test', 'CUPED adjusted']))\n",
        "\n",
        "print('\\n\\033[1mControl: \\033[0m')\n",
        "print(pd.DataFrame(control_impact_df, columns=['mean', 'variance'], index=['original test', 'CUPED adjusted']))"
      ],
      "metadata": {
        "cellView": "form",
        "id": "JN2igXiDDxo1"
      },
      "execution_count": null,
      "outputs": []
    },
    {
      "cell_type": "code",
      "source": [
        "# @title [Original test vs CUPED distribution] compare variances visually\n",
        "fig, ax = plt.subplots(1, 2, figsize=(25, 7))\n",
        "ax[0].hist(metric_test_treatment, color='lightgreen', label='test treatment', bins=10, alpha=0.6)\n",
        "ax[0].hist(metric_cuped_treatment, color='forestgreen', label='CUPED treatment', bins=10, alpha=0.6)\n",
        "ax[0].set_title('[Treatment] Metric distribution', size=20)\n",
        "ax[0].set_xlabel('metric', size=20)\n",
        "ax[0].set_ylabel('count', size=20)\n",
        "ax[0].legend(fontsize=20)\n",
        "\n",
        "ax[1].hist(metric_test_control, color='lightcoral', label='test control', bins=10, alpha=0.6)\n",
        "ax[1].hist(metric_cuped_control, color='red', label='CUPED control', bins=10, alpha=0.6)\n",
        "ax[1].set_title('[Control] Metric distribution', size=20)\n",
        "ax[1].set_xlabel('metric', size=20)\n",
        "ax[1].set_ylabel('count', size=20)\n",
        "ax[1].legend(fontsize=20)\n",
        "\n",
        "plt.show()"
      ],
      "metadata": {
        "cellView": "form",
        "id": "DtdigY_NHDtM"
      },
      "execution_count": null,
      "outputs": []
    },
    {
      "cell_type": "code",
      "source": [
        "# @title [Treatment vs Control distribution] compare variances visually\n",
        "fig, ax = plt.subplots(1, 2, figsize=(25, 7))\n",
        "ax[0].hist(metric_test_treatment, color='lightgreen', label='test treatment', bins=10, alpha=0.6)\n",
        "ax[0].hist(metric_test_control, color='lightcoral', label='test control', bins=10, alpha=0.6)\n",
        "ax[0].set_title('[Original test] Metric distribution', size=20)\n",
        "ax[0].set_xlabel('metric', size=20)\n",
        "ax[0].set_ylabel('count', size=20)\n",
        "ax[0].legend(fontsize=20)\n",
        "\n",
        "ax[1].hist(metric_cuped_treatment, color='forestgreen', label='CUPED treatment', bins=10, alpha=0.6)\n",
        "ax[1].hist(metric_cuped_control, color='red', label='CUPED control', bins=10, alpha=0.6)\n",
        "ax[1].set_title('[CUPED] Metric distribution', size=20)\n",
        "ax[1].set_xlabel('metric', size=20)\n",
        "ax[1].set_ylabel('count', size=20)\n",
        "ax[1].legend(fontsize=20)\n",
        "\n",
        "plt.show()"
      ],
      "metadata": {
        "cellView": "form",
        "id": "PdI7gzB8GKM-"
      },
      "execution_count": null,
      "outputs": []
    },
    {
      "cell_type": "code",
      "source": [
        "# @title [Before/After-test metric distribution] compare variances visually\n",
        "plt.figure(figsize=(15, 7))\n",
        "plt.scatter(metric_historical_treatment, metric_test_treatment, color='lightgreen', marker='.', label='TEST treatment')\n",
        "plt.scatter(metric_historical_control, metric_test_control, color='lightcoral', marker='.', label='TEST control')\n",
        "plt.scatter(metric_historical_treatment, metric_cuped_treatment, color='forestgreen', marker='.', label='CUPED treatment')\n",
        "plt.scatter(metric_historical_control, metric_cuped_control, color='red', marker='.', label='CUPED control')\n",
        "plt.title('Before-After test metric distribution')\n",
        "plt.xlabel('before test start')\n",
        "plt.ylabel('after test start')\n",
        "plt.ylim(0, 20)\n",
        "plt.legend()\n",
        "plt.show()"
      ],
      "metadata": {
        "cellView": "form",
        "id": "OvBybAK5_B4T"
      },
      "execution_count": null,
      "outputs": []
    },
    {
      "cell_type": "markdown",
      "source": [
        "**Just look at how much less variance there is along the y-axis for CUPED, compared to classic TEST.**"
      ],
      "metadata": {
        "id": "hsMDaILEA7uF"
      }
    },
    {
      "cell_type": "markdown",
      "source": [
        "------"
      ],
      "metadata": {
        "id": "tc29t1YEaxVX"
      }
    },
    {
      "cell_type": "code",
      "source": [
        "# variance difference ratio (from formula for Var(Y_{CUPED}))\n",
        "print(metric_cuped_treatment.var() / metric_test_treatment.var())\n",
        "print(metric_cuped_control.var() / metric_test_control.var())\n",
        "print('\\n')\n",
        "print(1 - np.corrcoef(metric_test_treatment, metric_historical_treatment)[0, 1]**2)\n",
        "print(1 - np.corrcoef(metric_test_control, metric_historical_control)[0, 1]**2)"
      ],
      "metadata": {
        "id": "3iswt_Sn3PL9"
      },
      "execution_count": null,
      "outputs": []
    },
    {
      "cell_type": "code",
      "source": [],
      "metadata": {
        "id": "eO0tW_9PwL-7"
      },
      "execution_count": null,
      "outputs": []
    }
  ]
}